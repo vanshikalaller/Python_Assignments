{
  "nbformat": 4,
  "nbformat_minor": 0,
  "metadata": {
    "colab": {
      "provenance": [],
      "authorship_tag": "ABX9TyPim96cdfemb5EdFgtrg5Yi",
      "include_colab_link": true
    },
    "kernelspec": {
      "name": "python3",
      "display_name": "Python 3"
    },
    "language_info": {
      "name": "python"
    }
  },
  "cells": [
    {
      "cell_type": "markdown",
      "metadata": {
        "id": "view-in-github",
        "colab_type": "text"
      },
      "source": [
        "<a href=\"https://colab.research.google.com/github/vanshikalaller/Python_Assignments/blob/main/Assignment_1.ipynb\" target=\"_parent\"><img src=\"https://colab.research.google.com/assets/colab-badge.svg\" alt=\"Open In Colab\"/></a>"
      ]
    },
    {
      "cell_type": "markdown",
      "source": [
        "**Q1. L is a list defined as L= [11,12,13,14]**"
      ],
      "metadata": {
        "id": "dVOuhJPzsMYU"
      }
    },
    {
      "cell_type": "markdown",
      "source": [
        "WAP to add 50 and 60 to the list"
      ],
      "metadata": {
        "id": "6HbLjoLPsoZX"
      }
    },
    {
      "cell_type": "code",
      "source": [
        "L=[11,12,13,14]\n",
        "L.append(50)\n",
        "L.append(60)\n",
        "print(L)"
      ],
      "metadata": {
        "colab": {
          "base_uri": "https://localhost:8080/"
        },
        "id": "wP4nam-istTY",
        "outputId": "0c1e8d0b-3b85-40e8-c14f-37e33ad90c74"
      },
      "execution_count": null,
      "outputs": [
        {
          "output_type": "stream",
          "name": "stdout",
          "text": [
            "[11, 12, 13, 14, 50, 60]\n"
          ]
        }
      ]
    },
    {
      "cell_type": "markdown",
      "source": [
        "WAP to remove 11 and 13 from the list"
      ],
      "metadata": {
        "id": "s900QWcCtIo2"
      }
    },
    {
      "cell_type": "code",
      "source": [
        "L.remove(11)\n",
        "L.remove(13)\n",
        "print(L)"
      ],
      "metadata": {
        "colab": {
          "base_uri": "https://localhost:8080/"
        },
        "id": "ElhQAqyVtRei",
        "outputId": "6863ab70-f0c5-4625-a24b-2d442c2b4016"
      },
      "execution_count": null,
      "outputs": [
        {
          "output_type": "stream",
          "name": "stdout",
          "text": [
            "[12, 14, 50, 60]\n"
          ]
        }
      ]
    },
    {
      "cell_type": "markdown",
      "source": [
        "WAP to sort L in ascending order"
      ],
      "metadata": {
        "id": "m3E9sMvrtfQq"
      }
    },
    {
      "cell_type": "code",
      "source": [
        "L.sort()\n",
        "print(L)"
      ],
      "metadata": {
        "colab": {
          "base_uri": "https://localhost:8080/"
        },
        "id": "SI_lZ4Imtiue",
        "outputId": "c8fe0369-4f57-4435-c34a-338a5ea6d549"
      },
      "execution_count": null,
      "outputs": [
        {
          "output_type": "stream",
          "name": "stdout",
          "text": [
            "[12, 14, 50, 60]\n"
          ]
        }
      ]
    },
    {
      "cell_type": "markdown",
      "source": [
        "WAP to sort L in descending order"
      ],
      "metadata": {
        "id": "zY75Qjaytqkc"
      }
    },
    {
      "cell_type": "code",
      "source": [
        "L.sort(reverse= True)\n",
        "print(L)"
      ],
      "metadata": {
        "colab": {
          "base_uri": "https://localhost:8080/"
        },
        "id": "BF3eZ1ZZttmL",
        "outputId": "2a0a6dbc-1a6d-4202-bb82-96b0b50c3865"
      },
      "execution_count": null,
      "outputs": [
        {
          "output_type": "stream",
          "name": "stdout",
          "text": [
            "[60, 50, 14, 12]\n"
          ]
        }
      ]
    },
    {
      "cell_type": "markdown",
      "source": [
        "WAP to seach for 13 in L"
      ],
      "metadata": {
        "id": "cSJBrPazt0a6"
      }
    },
    {
      "cell_type": "code",
      "source": [
        "if 13 in L:\n",
        " print(\"present\")\n",
        "else :\n",
        " print(\"not present\")"
      ],
      "metadata": {
        "colab": {
          "base_uri": "https://localhost:8080/"
        },
        "id": "J5_BCkcXt5Va",
        "outputId": "8874bb02-021f-4bbc-879f-78af6c58d73f"
      },
      "execution_count": null,
      "outputs": [
        {
          "output_type": "stream",
          "name": "stdout",
          "text": [
            "not present\n"
          ]
        }
      ]
    },
    {
      "cell_type": "markdown",
      "source": [
        "WAP to count the number of elements present in L"
      ],
      "metadata": {
        "id": "tG6vXCtsuQoS"
      }
    },
    {
      "cell_type": "code",
      "source": [
        "length= len(L)\n",
        "print(length)"
      ],
      "metadata": {
        "colab": {
          "base_uri": "https://localhost:8080/"
        },
        "id": "Q7y62wi-uUSf",
        "outputId": "36bc36c3-9f1e-4273-87be-7fd0f5e99439"
      },
      "execution_count": null,
      "outputs": [
        {
          "output_type": "stream",
          "name": "stdout",
          "text": [
            "4\n"
          ]
        }
      ]
    },
    {
      "cell_type": "markdown",
      "source": [
        "WAP to sum all the elements in L"
      ],
      "metadata": {
        "id": "E0iCWdZ7unhI"
      }
    },
    {
      "cell_type": "code",
      "source": [
        "sum=0\n",
        "for i in L:\n",
        "  sum+= i\n",
        "print(sum)"
      ],
      "metadata": {
        "colab": {
          "base_uri": "https://localhost:8080/"
        },
        "id": "mvH-lpdsupqn",
        "outputId": "8f5aa47a-fd60-437a-c9d6-0d50c97247d6"
      },
      "execution_count": null,
      "outputs": [
        {
          "output_type": "stream",
          "name": "stdout",
          "text": [
            "136\n"
          ]
        }
      ]
    },
    {
      "cell_type": "markdown",
      "source": [
        "WAP to sum all odd numbers in L\n"
      ],
      "metadata": {
        "id": "IvCcG8egu5e0"
      }
    },
    {
      "cell_type": "code",
      "source": [
        "sum=0\n",
        "for i in L:\n",
        "  if i%2!=0:\n",
        "    sum+= i\n",
        "print (sum)"
      ],
      "metadata": {
        "colab": {
          "base_uri": "https://localhost:8080/"
        },
        "id": "rhgaYn41vKJb",
        "outputId": "eb915b93-f374-42bd-c71a-001b879017e1"
      },
      "execution_count": null,
      "outputs": [
        {
          "output_type": "stream",
          "name": "stdout",
          "text": [
            "0\n"
          ]
        }
      ]
    },
    {
      "cell_type": "markdown",
      "source": [
        "WAP to sum all even numbers in L"
      ],
      "metadata": {
        "id": "jnx_3YDpvRzU"
      }
    },
    {
      "cell_type": "code",
      "source": [
        "sum=0\n",
        "for i in L:\n",
        "  if i%2==0:\n",
        "    sum+= i\n",
        "print(sum)"
      ],
      "metadata": {
        "colab": {
          "base_uri": "https://localhost:8080/"
        },
        "id": "vsvLTj0fvUXA",
        "outputId": "5857a747-3cba-4b70-fa55-1e4ca8d59830"
      },
      "execution_count": null,
      "outputs": [
        {
          "output_type": "stream",
          "name": "stdout",
          "text": [
            "136\n"
          ]
        }
      ]
    },
    {
      "cell_type": "markdown",
      "source": [
        "WAP to sum all Prime numbers in L"
      ],
      "metadata": {
        "id": "nerZLRugvenf"
      }
    },
    {
      "cell_type": "code",
      "source": [
        "def isPrime(n):\n",
        "  f=False\n",
        "  for i in range(2,n//2+1):\n",
        "    if(n%i==0):\n",
        "      f=True\n",
        "      break\n",
        "  if(f==True):\n",
        "    return False\n",
        "  else:\n",
        "    return True\n",
        "\n",
        "sum=0\n",
        "for i in L:\n",
        "  if(isPrime(i)):\n",
        "    sum+= i\n",
        "print(sum)"
      ],
      "metadata": {
        "colab": {
          "base_uri": "https://localhost:8080/"
        },
        "id": "KAHjOqyhvhxf",
        "outputId": "70f0fc19-e0ce-4b52-96af-bbdead957fe3"
      },
      "execution_count": null,
      "outputs": [
        {
          "output_type": "stream",
          "name": "stdout",
          "text": [
            "0\n"
          ]
        }
      ]
    },
    {
      "cell_type": "markdown",
      "source": [
        "WAP to clear all elements in L"
      ],
      "metadata": {
        "id": "xbRYnlAuwdNk"
      }
    },
    {
      "cell_type": "code",
      "source": [
        "i= len(L)-1\n",
        "while(i>=0):\n",
        "  del L[i]\n",
        "  i=i-1\n",
        "print(L)"
      ],
      "metadata": {
        "colab": {
          "base_uri": "https://localhost:8080/"
        },
        "id": "HQ1AjHMJwfU1",
        "outputId": "7f0d99f1-823c-4965-caeb-ea8e562f8f2f"
      },
      "execution_count": null,
      "outputs": [
        {
          "output_type": "stream",
          "name": "stdout",
          "text": [
            "[]\n"
          ]
        }
      ]
    },
    {
      "cell_type": "markdown",
      "source": [
        "WAP to delete L"
      ],
      "metadata": {
        "id": "7mdlpgbmxutL"
      }
    },
    {
      "cell_type": "code",
      "source": [
        "del L\n",
        "print(L)"
      ],
      "metadata": {
        "colab": {
          "base_uri": "https://localhost:8080/",
          "height": 164
        },
        "id": "zdKDKbHKxxOe",
        "outputId": "375dd54d-a747-4780-d86a-96d2847ea629"
      },
      "execution_count": null,
      "outputs": [
        {
          "output_type": "error",
          "ename": "NameError",
          "evalue": "name 'L' is not defined",
          "traceback": [
            "\u001b[0;31m---------------------------------------------------------------------------\u001b[0m",
            "\u001b[0;31mNameError\u001b[0m                                 Traceback (most recent call last)",
            "\u001b[0;32m<ipython-input-43-a090824c5da0>\u001b[0m in \u001b[0;36m<cell line: 1>\u001b[0;34m()\u001b[0m\n\u001b[0;32m----> 1\u001b[0;31m \u001b[0;32mdel\u001b[0m \u001b[0mL\u001b[0m\u001b[0;34m\u001b[0m\u001b[0;34m\u001b[0m\u001b[0m\n\u001b[0m\u001b[1;32m      2\u001b[0m \u001b[0mprint\u001b[0m\u001b[0;34m(\u001b[0m\u001b[0mL\u001b[0m\u001b[0;34m)\u001b[0m\u001b[0;34m\u001b[0m\u001b[0;34m\u001b[0m\u001b[0m\n",
            "\u001b[0;31mNameError\u001b[0m: name 'L' is not defined"
          ]
        }
      ]
    },
    {
      "cell_type": "markdown",
      "source": [
        "**Q2 D is a dictionary defined as D={1:5.6, 2:7.8, 3:6.6, 4:8.7, 5:7.7}**"
      ],
      "metadata": {
        "id": "ARSFSfWUyJee"
      }
    },
    {
      "cell_type": "markdown",
      "source": [
        "WAP to add new entry to D with key =8 and value=8.8"
      ],
      "metadata": {
        "id": "Sg7JutT7ylTI"
      }
    },
    {
      "cell_type": "code",
      "source": [
        "D={1:5.6, 2:7.8, 3:6.6, 4:8.7, 5:7.7}\n",
        "D[8]= 8.8\n",
        "print(D)"
      ],
      "metadata": {
        "colab": {
          "base_uri": "https://localhost:8080/"
        },
        "id": "1Z6vVEO7yvI9",
        "outputId": "c4f9e236-c9a3-41b0-a881-b4640776b68d"
      },
      "execution_count": null,
      "outputs": [
        {
          "output_type": "stream",
          "name": "stdout",
          "text": [
            "{1: 5.6, 2: 7.8, 3: 6.6, 4: 8.7, 5: 7.7, 8: 8.8}\n"
          ]
        }
      ]
    },
    {
      "cell_type": "markdown",
      "source": [
        "WAP to remove key=2"
      ],
      "metadata": {
        "id": "1Ei0QvEIzCjs"
      }
    },
    {
      "cell_type": "code",
      "source": [
        "del D[2]\n",
        "print(D)"
      ],
      "metadata": {
        "colab": {
          "base_uri": "https://localhost:8080/"
        },
        "id": "Hnx7t3RrzE1-",
        "outputId": "5a9a6348-7685-4fc3-db6d-ff7903c8e2d9"
      },
      "execution_count": null,
      "outputs": [
        {
          "output_type": "stream",
          "name": "stdout",
          "text": [
            "{1: 5.6, 3: 6.6, 4: 8.7, 5: 7.7, 8: 8.8}\n"
          ]
        }
      ]
    },
    {
      "cell_type": "markdown",
      "source": [
        "WAP to check whether 6 key is present in D"
      ],
      "metadata": {
        "id": "mI5P-eRdzNsP"
      }
    },
    {
      "cell_type": "code",
      "source": [
        "f= 6 in D\n",
        "if (f):\n",
        "  print(\"Present\")\n",
        "else:\n",
        "  print(\"not present\")"
      ],
      "metadata": {
        "colab": {
          "base_uri": "https://localhost:8080/"
        },
        "id": "wVVe5fnvzQ5B",
        "outputId": "518de785-e797-4bf6-9140-0febb6a070e1"
      },
      "execution_count": null,
      "outputs": [
        {
          "output_type": "stream",
          "name": "stdout",
          "text": [
            "not present\n"
          ]
        }
      ]
    },
    {
      "cell_type": "markdown",
      "source": [
        "WAP to count the number of elements in D"
      ],
      "metadata": {
        "id": "aoafAS9lzmy2"
      }
    },
    {
      "cell_type": "code",
      "source": [
        "length= len(D)\n",
        "print(length)"
      ],
      "metadata": {
        "colab": {
          "base_uri": "https://localhost:8080/"
        },
        "id": "pZoMjPV7zqcj",
        "outputId": "e49488f2-1467-4c0d-bbc5-13790d448627"
      },
      "execution_count": null,
      "outputs": [
        {
          "output_type": "stream",
          "name": "stdout",
          "text": [
            "5\n"
          ]
        }
      ]
    },
    {
      "cell_type": "markdown",
      "source": [
        "WAP to add all the values in D"
      ],
      "metadata": {
        "id": "4Tub6WeEz0yn"
      }
    },
    {
      "cell_type": "code",
      "source": [
        "sum=0;\n",
        "l= list(D.values())\n",
        "for i in range(0,len(l)):\n",
        "  sum+= l[i]\n",
        "print(sum)"
      ],
      "metadata": {
        "colab": {
          "base_uri": "https://localhost:8080/"
        },
        "id": "PPv9udH_z25D",
        "outputId": "1aff6442-7ace-461c-927c-913fa1fd5b2b"
      },
      "execution_count": null,
      "outputs": [
        {
          "output_type": "stream",
          "name": "stdout",
          "text": [
            "37.4\n"
          ]
        }
      ]
    },
    {
      "cell_type": "markdown",
      "source": [
        "WAP to update value of 3 to 7.1"
      ],
      "metadata": {
        "id": "N0kK-zaU0gjL"
      }
    },
    {
      "cell_type": "code",
      "source": [
        "D[3]=7.1\n",
        "print(D)"
      ],
      "metadata": {
        "colab": {
          "base_uri": "https://localhost:8080/"
        },
        "id": "hIvqNdGi0jLx",
        "outputId": "9f72e685-c020-4da9-a157-cca9e96ab3d2"
      },
      "execution_count": null,
      "outputs": [
        {
          "output_type": "stream",
          "name": "stdout",
          "text": [
            "{1: 5.6, 3: 7.1, 4: 8.7, 5: 7.7, 8: 8.8}\n"
          ]
        }
      ]
    },
    {
      "cell_type": "markdown",
      "source": [
        "WAP to clear the dictionary"
      ],
      "metadata": {
        "id": "HcX6_zPW0psw"
      }
    },
    {
      "cell_type": "code",
      "source": [
        "del D\n",
        "print(D)"
      ],
      "metadata": {
        "colab": {
          "base_uri": "https://localhost:8080/",
          "height": 164
        },
        "id": "9wBjIvoC0r08",
        "outputId": "538459e8-f25c-4b2c-f5cc-6b78ffbfb033"
      },
      "execution_count": null,
      "outputs": [
        {
          "output_type": "error",
          "ename": "NameError",
          "evalue": "name 'D' is not defined",
          "traceback": [
            "\u001b[0;31m---------------------------------------------------------------------------\u001b[0m",
            "\u001b[0;31mNameError\u001b[0m                                 Traceback (most recent call last)",
            "\u001b[0;32m<ipython-input-41-32f0afa72a71>\u001b[0m in \u001b[0;36m<cell line: 1>\u001b[0;34m()\u001b[0m\n\u001b[0;32m----> 1\u001b[0;31m \u001b[0;32mdel\u001b[0m \u001b[0mD\u001b[0m\u001b[0;34m\u001b[0m\u001b[0;34m\u001b[0m\u001b[0m\n\u001b[0m\u001b[1;32m      2\u001b[0m \u001b[0mprint\u001b[0m\u001b[0;34m(\u001b[0m\u001b[0mD\u001b[0m\u001b[0;34m)\u001b[0m\u001b[0;34m\u001b[0m\u001b[0;34m\u001b[0m\u001b[0m\n",
            "\u001b[0;31mNameError\u001b[0m: name 'D' is not defined"
          ]
        }
      ]
    },
    {
      "cell_type": "markdown",
      "source": [
        "Q3. S1 is a set defined as S1= [10,20,30,40,50,60]\n",
        "    S2 is a set defined as S2= [40,50,60,70,80,90]"
      ],
      "metadata": {
        "id": "Z5T_-HAb1F86"
      }
    },
    {
      "cell_type": "markdown",
      "source": [
        "WAP to add 55 and 66 in set s1"
      ],
      "metadata": {
        "id": "xWD51Kqr1yGV"
      }
    },
    {
      "cell_type": "code",
      "source": [
        "S1= set([10,20,30,40,50,60])\n",
        "S2= set([40,50,60,70,80,90])\n",
        "S1.add(55)\n",
        "S1.add(66)\n",
        "print(S1)"
      ],
      "metadata": {
        "colab": {
          "base_uri": "https://localhost:8080/"
        },
        "id": "RJ3CSC9R157S",
        "outputId": "06751015-0530-4559-cb65-51b51d7a2a4c"
      },
      "execution_count": null,
      "outputs": [
        {
          "output_type": "stream",
          "name": "stdout",
          "text": [
            "{66, 40, 10, 50, 20, 55, 60, 30}\n"
          ]
        }
      ]
    },
    {
      "cell_type": "markdown",
      "source": [
        "WAP to remove 10 and 30 from S1"
      ],
      "metadata": {
        "id": "drJBgQOw2fF4"
      }
    },
    {
      "cell_type": "code",
      "source": [
        "S1.remove(10)\n",
        "S1.remove(30)\n",
        "print(S1)"
      ],
      "metadata": {
        "colab": {
          "base_uri": "https://localhost:8080/"
        },
        "id": "tN6iOllP2iMO",
        "outputId": "00a80d2c-c5ba-4143-a602-89d5c55cad3d"
      },
      "execution_count": null,
      "outputs": [
        {
          "output_type": "stream",
          "name": "stdout",
          "text": [
            "{66, 40, 50, 20, 55, 60}\n"
          ]
        }
      ]
    },
    {
      "cell_type": "markdown",
      "source": [
        "WAP to check whether 40 is present in S1"
      ],
      "metadata": {
        "id": "PJg6WolR2qkm"
      }
    },
    {
      "cell_type": "code",
      "source": [
        "if 40 in S1:\n",
        "  print(\"present\")\n",
        "else:\n",
        "  print(\"not present\")"
      ],
      "metadata": {
        "colab": {
          "base_uri": "https://localhost:8080/"
        },
        "id": "vHsGA9LD2t5e",
        "outputId": "d7c9b513-271c-435d-cfc8-ddf48a6962e3"
      },
      "execution_count": null,
      "outputs": [
        {
          "output_type": "stream",
          "name": "stdout",
          "text": [
            "present\n"
          ]
        }
      ]
    },
    {
      "cell_type": "markdown",
      "source": [
        "WAP to find Union  between S1 and S2"
      ],
      "metadata": {
        "id": "lYTDspay3gOt"
      }
    },
    {
      "cell_type": "code",
      "source": [
        "S= S1.union(S2)\n",
        "print(S)"
      ],
      "metadata": {
        "colab": {
          "base_uri": "https://localhost:8080/"
        },
        "id": "asVDDNuQ3j0j",
        "outputId": "80784133-ee5a-4820-f352-fbb30bd232ff"
      },
      "execution_count": null,
      "outputs": [
        {
          "output_type": "stream",
          "name": "stdout",
          "text": [
            "{66, 70, 40, 80, 50, 20, 55, 90, 60}\n"
          ]
        }
      ]
    },
    {
      "cell_type": "markdown",
      "source": [
        "WAP to find Intersection between S1 and S2"
      ],
      "metadata": {
        "id": "waYguDaI336m"
      }
    },
    {
      "cell_type": "code",
      "source": [
        "print(S1.intersection(S2))"
      ],
      "metadata": {
        "colab": {
          "base_uri": "https://localhost:8080/"
        },
        "id": "8VnTGOz338Kx",
        "outputId": "93cda443-4d71-4ecd-9380-744f94cafe8d"
      },
      "execution_count": null,
      "outputs": [
        {
          "output_type": "stream",
          "name": "stdout",
          "text": [
            "{40, 50, 60}\n"
          ]
        }
      ]
    },
    {
      "cell_type": "markdown",
      "source": [
        "WAP to find S1-S2"
      ],
      "metadata": {
        "id": "1eKDpf3J4ER9"
      }
    },
    {
      "cell_type": "code",
      "source": [
        "print(S1-S2)"
      ],
      "metadata": {
        "colab": {
          "base_uri": "https://localhost:8080/"
        },
        "id": "y4X62Hvn4G_h",
        "outputId": "c33f1155-d4d7-43a9-a4f5-74d962be8686"
      },
      "execution_count": null,
      "outputs": [
        {
          "output_type": "stream",
          "name": "stdout",
          "text": [
            "{66, 20, 55}\n"
          ]
        }
      ]
    },
    {
      "cell_type": "markdown",
      "source": [
        "Write the following program"
      ],
      "metadata": {
        "id": "P7pGvVLX4crg"
      }
    },
    {
      "cell_type": "markdown",
      "source": [
        "WAP to print 100 random strings whose length between 6 and 8"
      ],
      "metadata": {
        "id": "3dwEa7Fr4mkE"
      }
    },
    {
      "cell_type": "code",
      "source": [
        "import random as r\n",
        "import string as s\n",
        "\n",
        "temp= r.sample(s.ascii_letters,r.randint(6,8)) # list\n",
        "print(\"\".join(temp))"
      ],
      "metadata": {
        "colab": {
          "base_uri": "https://localhost:8080/"
        },
        "id": "Vi3xa_fx4tj7",
        "outputId": "2de18238-e9c1-4a9b-e5c9-12b3b81f633d"
      },
      "execution_count": null,
      "outputs": [
        {
          "output_type": "stream",
          "name": "stdout",
          "text": [
            "DCwAtB\n"
          ]
        }
      ]
    },
    {
      "cell_type": "markdown",
      "source": [
        "WAP to print all Prime numbers between 600 and 800"
      ],
      "metadata": {
        "id": "g9wbh2rD6sK5"
      }
    },
    {
      "cell_type": "code",
      "source": [
        "def isPrime(n):\n",
        "  f=False\n",
        "  for i in range(2,n//2+1):\n",
        "    if(n%i==0):\n",
        "      f=True\n",
        "      break\n",
        "  return f==False\n",
        "for i in range(600,800):\n",
        "  if(isPrime(i)):\n",
        "    print(i)\n"
      ],
      "metadata": {
        "colab": {
          "base_uri": "https://localhost:8080/"
        },
        "id": "bX_KtCux6wS-",
        "outputId": "0f12457d-9b5a-4513-f509-09136fc3373d"
      },
      "execution_count": null,
      "outputs": [
        {
          "output_type": "stream",
          "name": "stdout",
          "text": [
            "601\n",
            "607\n",
            "613\n",
            "617\n",
            "619\n",
            "631\n",
            "641\n",
            "643\n",
            "647\n",
            "653\n",
            "659\n",
            "661\n",
            "673\n",
            "677\n",
            "683\n",
            "691\n",
            "701\n",
            "709\n",
            "719\n",
            "727\n",
            "733\n",
            "739\n",
            "743\n",
            "751\n",
            "757\n",
            "761\n",
            "769\n",
            "773\n",
            "787\n",
            "797\n"
          ]
        }
      ]
    },
    {
      "cell_type": "markdown",
      "source": [
        "WAP to print all numbers between 100 and 1000 that are divisible by 7 and 9"
      ],
      "metadata": {
        "id": "H2irTh7U7gfE"
      }
    },
    {
      "cell_type": "code",
      "source": [
        "for i in range(100,1001):\n",
        "  if(i%7==0 and i%9==0):\n",
        "    print(i)\n"
      ],
      "metadata": {
        "colab": {
          "base_uri": "https://localhost:8080/"
        },
        "id": "qKG93lp27naz",
        "outputId": "dbc61e0b-5ef3-4d20-ff2f-b88d9d7abb5d"
      },
      "execution_count": null,
      "outputs": [
        {
          "output_type": "stream",
          "name": "stdout",
          "text": [
            "126\n",
            "189\n",
            "252\n",
            "315\n",
            "378\n",
            "441\n",
            "504\n",
            "567\n",
            "630\n",
            "693\n",
            "756\n",
            "819\n",
            "882\n",
            "945\n"
          ]
        }
      ]
    },
    {
      "cell_type": "markdown",
      "source": [
        "WAP to create two lists of 10 random numbers between 10 and 30."
      ],
      "metadata": {
        "id": "pLCOvzrx75vX"
      }
    },
    {
      "cell_type": "markdown",
      "source": [
        "Find common numbers in two lists"
      ],
      "metadata": {
        "id": "p0vMZt548Cl3"
      }
    },
    {
      "cell_type": "code",
      "source": [
        "import random as r\n",
        "L1= r.sample(range(10,31),10)\n",
        "L2= r.sample(range(10,31),10)\n",
        "print(L1)\n",
        "print(L2)"
      ],
      "metadata": {
        "colab": {
          "base_uri": "https://localhost:8080/"
        },
        "id": "v4Wsy8uw8GuC",
        "outputId": "23abb03f-09e3-4181-d834-a22c5ac21d59"
      },
      "execution_count": null,
      "outputs": [
        {
          "output_type": "stream",
          "name": "stdout",
          "text": [
            "[30, 21, 24, 14, 18, 23, 29, 17, 16, 20]\n",
            "[16, 12, 23, 10, 29, 11, 18, 17, 19, 15]\n"
          ]
        }
      ]
    },
    {
      "cell_type": "markdown",
      "source": [
        "Common numbers in two list"
      ],
      "metadata": {
        "id": "R0y2HYx28tqp"
      }
    },
    {
      "cell_type": "code",
      "source": [
        "S= set(L1).intersection(set(L2))\n",
        "print(S)"
      ],
      "metadata": {
        "colab": {
          "base_uri": "https://localhost:8080/"
        },
        "id": "bj8ixcFQ8wJY",
        "outputId": "df0277cf-fb2a-41fe-c729-29edcc053be5"
      },
      "execution_count": null,
      "outputs": [
        {
          "output_type": "stream",
          "name": "stdout",
          "text": [
            "{16, 17, 18, 23, 29}\n"
          ]
        }
      ]
    },
    {
      "cell_type": "markdown",
      "source": [
        "Unique numbers in both lists\n"
      ],
      "metadata": {
        "id": "lipPxV-Y9WW8"
      }
    },
    {
      "cell_type": "code",
      "source": [
        "S= set(L1)-set(L2)\n",
        "print(S)\n",
        "S= set(L2)-set(L1)\n",
        "print(S)"
      ],
      "metadata": {
        "colab": {
          "base_uri": "https://localhost:8080/"
        },
        "id": "EiF6gFPE9ZJB",
        "outputId": "44b5c7d7-8695-4a23-b938-932c375afc03"
      },
      "execution_count": null,
      "outputs": [
        {
          "output_type": "stream",
          "name": "stdout",
          "text": [
            "{14, 20, 21, 24, 30}\n",
            "{10, 11, 12, 15, 19}\n"
          ]
        }
      ]
    },
    {
      "cell_type": "markdown",
      "source": [
        "Minimum in both lists\n"
      ],
      "metadata": {
        "id": "ed7Ppy229u7P"
      }
    },
    {
      "cell_type": "code",
      "source": [
        "print(min(L1))\n",
        "print(min(L2))"
      ],
      "metadata": {
        "colab": {
          "base_uri": "https://localhost:8080/"
        },
        "id": "R1mTPvlE9woS",
        "outputId": "93f441b6-aa48-47a3-b44d-2317e8612dc7"
      },
      "execution_count": null,
      "outputs": [
        {
          "output_type": "stream",
          "name": "stdout",
          "text": [
            "14\n",
            "10\n"
          ]
        }
      ]
    },
    {
      "cell_type": "markdown",
      "source": [
        "Maximum in both lists"
      ],
      "metadata": {
        "id": "AQZGh-ZI921e"
      }
    },
    {
      "cell_type": "code",
      "source": [
        "print(max(L1))\n",
        "print(max(L2))"
      ],
      "metadata": {
        "colab": {
          "base_uri": "https://localhost:8080/"
        },
        "id": "nE6Bce0a96gR",
        "outputId": "0e555aa7-66d6-48be-ea8f-4fca146f9113"
      },
      "execution_count": null,
      "outputs": [
        {
          "output_type": "stream",
          "name": "stdout",
          "text": [
            "30\n",
            "29\n"
          ]
        }
      ]
    },
    {
      "cell_type": "markdown",
      "source": [
        "Sum of both the List"
      ],
      "metadata": {
        "id": "FTnhGgNJ9_jJ"
      }
    },
    {
      "cell_type": "code",
      "source": [
        "def add(L):\n",
        "  sum=0;\n",
        "  for i in range(0,len(L)):\n",
        "    sum+= L[i]\n",
        "  return sum\n",
        "\n",
        "sum1= add(L1)\n",
        "sum2= add(L2)\n",
        "print(sum1)\n",
        "print(sum2)"
      ],
      "metadata": {
        "colab": {
          "base_uri": "https://localhost:8080/"
        },
        "id": "krYHdGAj-BDD",
        "outputId": "d910ac1a-bce7-4d26-a004-26277cd9a6b3"
      },
      "execution_count": null,
      "outputs": [
        {
          "output_type": "stream",
          "name": "stdout",
          "text": [
            "212\n",
            "170\n"
          ]
        }
      ]
    },
    {
      "cell_type": "markdown",
      "source": [
        "WAP to create a list of 100 random numbers from 100 and 900"
      ],
      "metadata": {
        "id": "Igu8Bfdd-fj-"
      }
    },
    {
      "cell_type": "code",
      "source": [
        "import random as r\n",
        "L= r.sample(range(100,901),100)\n",
        "print(L)"
      ],
      "metadata": {
        "colab": {
          "base_uri": "https://localhost:8080/"
        },
        "id": "T2Eo9dD6-mUg",
        "outputId": "5ca2ca7a-2877-4837-bacf-72ae61c3328c"
      },
      "execution_count": null,
      "outputs": [
        {
          "output_type": "stream",
          "name": "stdout",
          "text": [
            "[500, 616, 439, 541, 571, 148, 823, 231, 180, 787, 785, 637, 321, 530, 820, 850, 606, 731, 647, 351, 295, 505, 217, 764, 628, 163, 479, 667, 542, 140, 501, 352, 188, 889, 460, 577, 339, 776, 492, 218, 395, 660, 816, 608, 682, 114, 276, 396, 636, 844, 610, 591, 856, 240, 138, 151, 625, 184, 313, 635, 283, 862, 162, 491, 552, 843, 437, 445, 877, 494, 674, 695, 585, 509, 256, 858, 701, 104, 793, 274, 700, 633, 177, 572, 406, 427, 175, 362, 422, 438, 224, 428, 325, 131, 443, 560, 435, 289, 598, 743]\n"
          ]
        }
      ]
    },
    {
      "cell_type": "markdown",
      "source": [
        "Count and print all Odd numbers"
      ],
      "metadata": {
        "id": "tqYF6thM_V1d"
      }
    },
    {
      "cell_type": "code",
      "source": [
        "for i in range(0,len(L)):\n",
        "  if(L[i]%2!=0):\n",
        "    print(L[i])\n"
      ],
      "metadata": {
        "colab": {
          "base_uri": "https://localhost:8080/"
        },
        "id": "TfQsnkTA_Xr0",
        "outputId": "62fd3acd-82c5-48ec-94cf-cfce2af9415c"
      },
      "execution_count": null,
      "outputs": [
        {
          "output_type": "stream",
          "name": "stdout",
          "text": [
            "439\n",
            "541\n",
            "571\n",
            "823\n",
            "231\n",
            "787\n",
            "785\n",
            "637\n",
            "321\n",
            "731\n",
            "647\n",
            "351\n",
            "295\n",
            "505\n",
            "217\n",
            "163\n",
            "479\n",
            "667\n",
            "501\n",
            "889\n",
            "577\n",
            "339\n",
            "395\n",
            "591\n",
            "151\n",
            "625\n",
            "313\n",
            "635\n",
            "283\n",
            "491\n",
            "843\n",
            "437\n",
            "445\n",
            "877\n",
            "695\n",
            "585\n",
            "509\n",
            "701\n",
            "793\n",
            "633\n",
            "177\n",
            "427\n",
            "175\n",
            "325\n",
            "131\n",
            "443\n",
            "435\n",
            "289\n",
            "743\n"
          ]
        }
      ]
    },
    {
      "cell_type": "markdown",
      "source": [
        "Count and print all even numbers"
      ],
      "metadata": {
        "id": "L0eZ2ktx_ffl"
      }
    },
    {
      "cell_type": "code",
      "source": [
        "for i in range(0,len(L)):\n",
        "  if(L[i]%2==0):\n",
        "    print(L[i])"
      ],
      "metadata": {
        "colab": {
          "base_uri": "https://localhost:8080/"
        },
        "id": "BMjZ0pzB_j-B",
        "outputId": "7caecc8d-0cda-49b6-95a9-b4786898e1d2"
      },
      "execution_count": null,
      "outputs": [
        {
          "output_type": "stream",
          "name": "stdout",
          "text": [
            "500\n",
            "616\n",
            "148\n",
            "180\n",
            "530\n",
            "820\n",
            "850\n",
            "606\n",
            "764\n",
            "628\n",
            "542\n",
            "140\n",
            "352\n",
            "188\n",
            "460\n",
            "776\n",
            "492\n",
            "218\n",
            "660\n",
            "816\n",
            "608\n",
            "682\n",
            "114\n",
            "276\n",
            "396\n",
            "636\n",
            "844\n",
            "610\n",
            "856\n",
            "240\n",
            "138\n",
            "184\n",
            "862\n",
            "162\n",
            "552\n",
            "494\n",
            "674\n",
            "256\n",
            "858\n",
            "104\n",
            "274\n",
            "700\n",
            "572\n",
            "406\n",
            "362\n",
            "422\n",
            "438\n",
            "224\n",
            "428\n",
            "560\n",
            "598\n"
          ]
        }
      ]
    },
    {
      "cell_type": "markdown",
      "source": [
        "Count and print all Prime numbers\n"
      ],
      "metadata": {
        "id": "Sj_yrB0H_pk_"
      }
    },
    {
      "cell_type": "code",
      "source": [
        "def isPrime(n):\n",
        "  f= False\n",
        "  for i in range(2,n//2+1):\n",
        "    if(n%i==0):\n",
        "      f= True\n",
        "      break\n",
        "  return f==False\n",
        "\n",
        "for i in range(0,len(L)):\n",
        "  if(isPrime(L[i])):\n",
        "    print(L[i])"
      ],
      "metadata": {
        "colab": {
          "base_uri": "https://localhost:8080/"
        },
        "id": "PbQhQQRD_r43",
        "outputId": "885a30c2-3eeb-4d31-bfeb-a488c29c2713"
      },
      "execution_count": null,
      "outputs": [
        {
          "output_type": "stream",
          "name": "stdout",
          "text": [
            "439\n",
            "541\n",
            "571\n",
            "823\n",
            "787\n",
            "647\n",
            "163\n",
            "479\n",
            "577\n",
            "151\n",
            "313\n",
            "283\n",
            "491\n",
            "877\n",
            "509\n",
            "701\n",
            "131\n",
            "443\n",
            "743\n"
          ]
        }
      ]
    },
    {
      "cell_type": "markdown",
      "source": [
        "Q7. D is a dictionary defined as D= {1:\"One\", 2:\"Two\", 3:\"Three\", 4:\"Four\",5:\"Five\"}\n",
        "WAP to read all the keys and values from dictionary and write to the file in the given format\n",
        "Key1,Value1\n",
        "Key2,Value2\n",
        "Key3,Value3"
      ],
      "metadata": {
        "id": "UZ_Cm-uCA3EY"
      }
    },
    {
      "cell_type": "code",
      "source": [
        "D= {1:\"One\", 2:\"Two\", 3:\"Three\", 4:\"Four\",5:\"Five\"}\n",
        "fp= open('result.txt','w')\n",
        "for key,value in D.items():\n",
        "  fp.write(f\"{key},{value}\\n\")\n",
        "fp.close()"
      ],
      "metadata": {
        "id": "rOgDBO4ZBus-"
      },
      "execution_count": 87,
      "outputs": []
    },
    {
      "cell_type": "markdown",
      "source": [
        "Q8. L is a list defined as L= {\"One\",\"Two\", \"Three\", \"Four\", \"Five\"}. WAP to count the length of each element from the list and write to the file in the given below format.\n",
        "One,2\n",
        "Two,3\n",
        "Four,4"
      ],
      "metadata": {
        "id": "276GGl60FzD9"
      }
    },
    {
      "cell_type": "code",
      "source": [
        "L= [\"One\",\"Two\", \"Three\", \"Four\", \"Five\"]\n",
        "fp=open('result.txt','w')\n",
        "for i in L:\n",
        "  fp.write(f\"{i},{len(i)}\\n\")\n",
        "fp.close()"
      ],
      "metadata": {
        "id": "nkbhuSt0GbjK"
      },
      "execution_count": 92,
      "outputs": []
    },
    {
      "cell_type": "markdown",
      "source": [
        "Write to the file 100 random strings whose length between 10 and 15"
      ],
      "metadata": {
        "id": "q_qCVVxwHx-W"
      }
    },
    {
      "cell_type": "code",
      "source": [
        "import random as r\n",
        "import string as s\n",
        "\n",
        "fp= open('result.txt','w')\n",
        "i=100\n",
        "while(i>0):\n",
        "  fp.write(\"\".join(r.sample(s.ascii_letters, r.randint(10,15))))\n",
        "  fp.write(\"\\n\")\n",
        "  i=i-1\n",
        "fp.close()\n"
      ],
      "metadata": {
        "id": "EoDWGeG5H4NU"
      },
      "execution_count": 101,
      "outputs": []
    },
    {
      "cell_type": "markdown",
      "source": [
        "Write to the file all prime numbers between 600 and 800"
      ],
      "metadata": {
        "id": "cnbTVUrGKpfc"
      }
    },
    {
      "cell_type": "code",
      "source": [
        "def isPrime(n):\n",
        "  f=False\n",
        "  for i in range(2,n//2+1):\n",
        "    if(n%i==0):\n",
        "      f=True\n",
        "      break\n",
        "  return f==False\n",
        "L=[]\n",
        "for i in range(600,801):\n",
        "  if(isPrime(i)):\n",
        "    L.append(i)\n",
        "fp= open('result.txt','w')\n",
        "for i in L:\n",
        "  fp.write(f\"{i}\\n\")\n",
        "fp.close()"
      ],
      "metadata": {
        "id": "cWn5JKx7KtZJ"
      },
      "execution_count": 104,
      "outputs": []
    },
    {
      "cell_type": "markdown",
      "source": [
        "WAP to calculate the time taken by the program"
      ],
      "metadata": {
        "id": "brA4uxQCLb9q"
      }
    },
    {
      "cell_type": "code",
      "source": [
        "import time\n",
        "start_time= time.time()\n",
        "\n",
        "def isPrime(n):\n",
        "  f=False\n",
        "  for i in range(2,n//2+1):\n",
        "    if(n%i==0):\n",
        "      f=True\n",
        "      break\n",
        "  return f==False\n",
        "L=[]\n",
        "for i in range(600,801):\n",
        "  if(isPrime(i)):\n",
        "    L.append(i)\n",
        "fp= open('result.txt','w')\n",
        "for i in L:\n",
        "  fp.write(f\"{i}\\n\")\n",
        "fp.close()\n",
        "\n",
        "end_time= time.time()\n",
        "\n",
        "print(end_time-start_time)"
      ],
      "metadata": {
        "colab": {
          "base_uri": "https://localhost:8080/"
        },
        "id": "wDy9kMTyLpo3",
        "outputId": "6e3d9aa4-7cee-4f90-cfc0-9b20cfdc95e3"
      },
      "execution_count": 105,
      "outputs": [
        {
          "output_type": "stream",
          "name": "stdout",
          "text": [
            "0.0032393932342529297\n"
          ]
        }
      ]
    },
    {
      "cell_type": "markdown",
      "source": [
        "WAP to sort the following number of elements in a list , calculate time taken and plot the graph"
      ],
      "metadata": {
        "id": "HPG6MVh2MA0u"
      }
    },
    {
      "cell_type": "code",
      "source": [],
      "metadata": {
        "id": "Nc6YWPRaMIdw"
      },
      "execution_count": null,
      "outputs": []
    },
    {
      "cell_type": "markdown",
      "source": [
        "WAP to create a dictionary of student marks in five subjects and you have to find the student having maximum and mininum average marks"
      ],
      "metadata": {
        "id": "FRu2Gv4GMnTQ"
      }
    },
    {
      "cell_type": "code",
      "source": [
        "def avg(marks):\n",
        "  sum=0\n",
        "  for i in marks.values():\n",
        "    sum+= i\n",
        "  return sum/len(marks)\n",
        "\n",
        "marks = {\"Vanshika\": {\"Math\": 100, \"English\": 90, \"Hindi\": 78, \"Science\": 88, \"SST\":86},\n",
        "    \"Arshiya\": {\"Math\": 75, \"English\": 80, \"Hindi\": 70, \"Science\": 72, \"SST\": 78},\n",
        "    \"Aahan\": {\"Math\": 95, \"English\": 85, \"Hindi\": 88, \"Science\": 92, \"SST\": 84},\n",
        "    \"Vihan\": {\"Math\": 65, \"English\": 70, \"Hindi\": 60, \"Science\": 62, \"SST\": 76},}\n",
        "\n",
        "maxAvg=0;\n",
        "minAvg= float('inf')\n",
        "\n",
        "maxName= \"\"\n",
        "minName= \"\"\n",
        "\n",
        "for key,value in marks.items():\n",
        "  avgMarks= avg(value)\n",
        "  if(avgMarks>maxAvg):\n",
        "    maxAvg= avgMarks\n",
        "    maxName= key\n",
        "  if(avgMarks<minAvg):\n",
        "    minAvg= avgMarks\n",
        "    minName= key\n",
        "\n",
        "print(f\"Maximum average marks is {maxAvg} by {maxName}\")\n",
        "print(f\"Minimum average marks is {minAvg} by {minName}\")\n",
        "\n"
      ],
      "metadata": {
        "colab": {
          "base_uri": "https://localhost:8080/"
        },
        "id": "swK8ahhNM0WO",
        "outputId": "35759803-d1ad-4a8f-f52e-adabfcc63e3d"
      },
      "execution_count": 106,
      "outputs": [
        {
          "output_type": "stream",
          "name": "stdout",
          "text": [
            "Maximum average marks is 88.8 by Aahan\n",
            "Minimum average marks is 66.6 by Vihan\n"
          ]
        }
      ]
    }
  ]
}